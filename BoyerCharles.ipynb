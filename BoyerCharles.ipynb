{
 "cells": [
  {
   "cell_type": "code",
   "execution_count": 2,
   "metadata": {},
   "outputs": [
    {
     "ename": "SyntaxError",
     "evalue": "invalid syntax (<ipython-input-2-3f71b6a4b4e4>, line 12)",
     "output_type": "error",
     "traceback": [
      "\u001b[1;36m  File \u001b[1;32m\"<ipython-input-2-3f71b6a4b4e4>\"\u001b[1;36m, line \u001b[1;32m12\u001b[0m\n\u001b[1;33m    while (compteur < N)\u001b[0m\n\u001b[1;37m                        ^\u001b[0m\n\u001b[1;31mSyntaxError\u001b[0m\u001b[1;31m:\u001b[0m invalid syntax\n"
     ]
    }
   ],
   "source": [
    "#Exercice 1:\n",
    "\n",
    "import matplotlib.pyplot as plt\n",
    "import numpy as np\n",
    "\n",
    "def f(x):\n",
    "    return x**3+2*2-2\n",
    "\n",
    "def racine(x):\n",
    "    intervalle = np.arrange[0,1,0,1]\n",
    "    compteur = 0\n",
    "    while (compteur < N)\n",
    "        if f(intervalle[0])*f(intervalle[1]) < 0:\n",
    "            intervalle = [intervalle[0], (intervalle[0]+intervalle[1])/2]\n",
    "        \n",
    "        compteur += 1"
   ]
  },
  {
   "cell_type": "code",
   "execution_count": null,
   "metadata": {},
   "outputs": [],
   "source": [
    "#Exercice Carré magique pris sur Internet\n",
    "n = 11\n",
    "\n",
    "assert n % 2 == 1, f\"L'ordre {n} n'est pas impair.\"\n",
    "\n",
    "array = [[0 for j in range(n)] for i in range(n)]\n",
    "\n",
    "\n",
    "i, j = n, (n + 1) // 2        \n",
    "array[i - 1][j - 1] = 1       \n",
    "\n",
    "\n",
    "for k in range(2, n**2 + 1):\n",
    "\n",
    "    i2 = (i + 1) % n\n",
    "    j2 = (j + 1) % n\n",
    "    if array[i2 - 1][j2 - 1] == 0:\n",
    "        i, j = i2, j2\n",
    "    else:\n",
    "        i = (i - 1) % n\n",
    "    array[i - 1][j - 1] = k\n",
    "\n",
    "print(f\"Carré magique d'ordre {n}:\")\n",
    "for row in array:\n",
    "    print('  '.join(f'{k:2d}' for k in row), '=', sum(row))\n",
    "print('  '.join('==' for k in row))\n",
    "print('  '.join(str(sum(array[i][j] for i in range(n))) for j in range(n)))"
   ]
  },
  {
   "cell_type": "code",
   "execution_count": null,
   "metadata": {},
   "outputs": [],
   "source": []
  },
  {
   "cell_type": "code",
   "execution_count": null,
   "metadata": {},
   "outputs": [],
   "source": []
  }
 ],
 "metadata": {
  "kernelspec": {
   "display_name": "Python 3",
   "language": "python",
   "name": "python3"
  },
  "language_info": {
   "codemirror_mode": {
    "name": "ipython",
    "version": 3
   },
   "file_extension": ".py",
   "mimetype": "text/x-python",
   "name": "python",
   "nbconvert_exporter": "python",
   "pygments_lexer": "ipython3",
   "version": "3.7.6"
  }
 },
 "nbformat": 4,
 "nbformat_minor": 4
}
